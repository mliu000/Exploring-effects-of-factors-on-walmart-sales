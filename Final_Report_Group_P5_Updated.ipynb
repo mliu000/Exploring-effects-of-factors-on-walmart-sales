{
 "cells": [
  {
   "cell_type": "markdown",
   "metadata": {},
   "source": [
    "# **Exploring the effect of various external factors on Weekly Sales of Walmart Stores**\n",
    "\n",
    "---"
   ]
  },
  {
   "cell_type": "markdown",
   "metadata": {},
   "source": [
    "Group Members: Mu Ye Liu and 3 others.\n",
    "\n",
    "---"
   ]
  },
  {
   "cell_type": "code",
   "execution_count": 20,
   "metadata": {
    "vscode": {
     "languageId": "r"
    }
   },
   "outputs": [],
   "source": [
    "## Load the necessary R packages\n",
    "library(gridExtra)\n",
    "library(dplyr)\n",
    "library(ggplot2)"
   ]
  },
  {
   "cell_type": "markdown",
   "metadata": {
    "vscode": {
     "languageId": "r"
    }
   },
   "source": [
    "---\n",
    "\n",
    "## **Introduction**"
   ]
  },
  {
   "cell_type": "markdown",
   "metadata": {},
   "source": [
    "#### **About the Dataset**\n",
    "\n",
    "The data we are analyzing is obtained from Kaggle, with link: https://www.kaggle.com/datasets/mikhail1681/walmart-sales?resource=download.\n",
    "\n",
    "This dataset contains information on 45 Walmart stores across multiple regions, with data mostly collected between the through time between the years of 2010 - 2012. Each entry represented a week, where the weekly sales of the store in USD (our response variable) and other external factors such as average temperature, fuel price, whether or not a holiday existed throughout the week, etc are also recorded. This dataset was scraped from the official website of Amazon through BeautifulSoup and WebDriver using Python. \n",
    "\n",
    "#### **Motivation for analysis**\n",
    "\n",
    "Analyzing this dataset can reveal insights into the factors influencing retail sales at Walmart, such as holidays, weather, and broader economic conditions. Understanding these relationships is valuable for developing data-driven strategies to optimize inventory, staffing, and marketing efforts. Insights from this dataset may also provide predictive value to other retail businesses seeking to enhance their sales forecasting and adapt to economic fluctuations. \n",
    "\n",
    "#### **Load the Dataset**"
   ]
  },
  {
   "cell_type": "code",
   "execution_count": 9,
   "metadata": {
    "vscode": {
     "languageId": "r"
    }
   },
   "outputs": [
    {
     "data": {
      "text/html": [
       "<table class=\"dataframe\">\n",
       "<caption>A data.frame: 6 × 8</caption>\n",
       "<thead>\n",
       "\t<tr><th></th><th scope=col>Store</th><th scope=col>Date</th><th scope=col>Weekly_Sales</th><th scope=col>Holiday_Flag</th><th scope=col>Temperature</th><th scope=col>Fuel_Price</th><th scope=col>CPI</th><th scope=col>Unemployment</th></tr>\n",
       "\t<tr><th></th><th scope=col>&lt;int&gt;</th><th scope=col>&lt;chr&gt;</th><th scope=col>&lt;dbl&gt;</th><th scope=col>&lt;fct&gt;</th><th scope=col>&lt;dbl&gt;</th><th scope=col>&lt;dbl&gt;</th><th scope=col>&lt;dbl&gt;</th><th scope=col>&lt;dbl&gt;</th></tr>\n",
       "</thead>\n",
       "<tbody>\n",
       "\t<tr><th scope=row>1</th><td>1</td><td>05-02-2010</td><td>1643691</td><td>0</td><td> 5.73</td><td>2.57</td><td>211.10</td><td>8.106</td></tr>\n",
       "\t<tr><th scope=row>2</th><td>1</td><td>12-02-2010</td><td>1641957</td><td>1</td><td> 3.62</td><td>2.55</td><td>211.24</td><td>8.106</td></tr>\n",
       "\t<tr><th scope=row>3</th><td>1</td><td>19-02-2010</td><td>1611968</td><td>0</td><td> 4.41</td><td>2.51</td><td>211.29</td><td>8.106</td></tr>\n",
       "\t<tr><th scope=row>4</th><td>1</td><td>26-02-2010</td><td>1409728</td><td>0</td><td> 8.13</td><td>2.56</td><td>211.32</td><td>8.106</td></tr>\n",
       "\t<tr><th scope=row>5</th><td>1</td><td>05-03-2010</td><td>1554807</td><td>0</td><td> 8.06</td><td>2.62</td><td>211.35</td><td>8.106</td></tr>\n",
       "\t<tr><th scope=row>6</th><td>1</td><td>12-03-2010</td><td>1439542</td><td>0</td><td>14.33</td><td>2.67</td><td>211.38</td><td>8.106</td></tr>\n",
       "</tbody>\n",
       "</table>\n"
      ],
      "text/latex": [
       "A data.frame: 6 × 8\n",
       "\\begin{tabular}{r|llllllll}\n",
       "  & Store & Date & Weekly\\_Sales & Holiday\\_Flag & Temperature & Fuel\\_Price & CPI & Unemployment\\\\\n",
       "  & <int> & <chr> & <dbl> & <fct> & <dbl> & <dbl> & <dbl> & <dbl>\\\\\n",
       "\\hline\n",
       "\t1 & 1 & 05-02-2010 & 1643691 & 0 &  5.73 & 2.57 & 211.10 & 8.106\\\\\n",
       "\t2 & 1 & 12-02-2010 & 1641957 & 1 &  3.62 & 2.55 & 211.24 & 8.106\\\\\n",
       "\t3 & 1 & 19-02-2010 & 1611968 & 0 &  4.41 & 2.51 & 211.29 & 8.106\\\\\n",
       "\t4 & 1 & 26-02-2010 & 1409728 & 0 &  8.13 & 2.56 & 211.32 & 8.106\\\\\n",
       "\t5 & 1 & 05-03-2010 & 1554807 & 0 &  8.06 & 2.62 & 211.35 & 8.106\\\\\n",
       "\t6 & 1 & 12-03-2010 & 1439542 & 0 & 14.33 & 2.67 & 211.38 & 8.106\\\\\n",
       "\\end{tabular}\n"
      ],
      "text/markdown": [
       "\n",
       "A data.frame: 6 × 8\n",
       "\n",
       "| <!--/--> | Store &lt;int&gt; | Date &lt;chr&gt; | Weekly_Sales &lt;dbl&gt; | Holiday_Flag &lt;fct&gt; | Temperature &lt;dbl&gt; | Fuel_Price &lt;dbl&gt; | CPI &lt;dbl&gt; | Unemployment &lt;dbl&gt; |\n",
       "|---|---|---|---|---|---|---|---|---|\n",
       "| 1 | 1 | 05-02-2010 | 1643691 | 0 |  5.73 | 2.57 | 211.10 | 8.106 |\n",
       "| 2 | 1 | 12-02-2010 | 1641957 | 1 |  3.62 | 2.55 | 211.24 | 8.106 |\n",
       "| 3 | 1 | 19-02-2010 | 1611968 | 0 |  4.41 | 2.51 | 211.29 | 8.106 |\n",
       "| 4 | 1 | 26-02-2010 | 1409728 | 0 |  8.13 | 2.56 | 211.32 | 8.106 |\n",
       "| 5 | 1 | 05-03-2010 | 1554807 | 0 |  8.06 | 2.62 | 211.35 | 8.106 |\n",
       "| 6 | 1 | 12-03-2010 | 1439542 | 0 | 14.33 | 2.67 | 211.38 | 8.106 |\n",
       "\n"
      ],
      "text/plain": [
       "  Store Date       Weekly_Sales Holiday_Flag Temperature Fuel_Price CPI   \n",
       "1 1     05-02-2010 1643691      0             5.73       2.57       211.10\n",
       "2 1     12-02-2010 1641957      1             3.62       2.55       211.24\n",
       "3 1     19-02-2010 1611968      0             4.41       2.51       211.29\n",
       "4 1     26-02-2010 1409728      0             8.13       2.56       211.32\n",
       "5 1     05-03-2010 1554807      0             8.06       2.62       211.35\n",
       "6 1     12-03-2010 1439542      0            14.33       2.67       211.38\n",
       "  Unemployment\n",
       "1 8.106       \n",
       "2 8.106       \n",
       "3 8.106       \n",
       "4 8.106       \n",
       "5 8.106       \n",
       "6 8.106       "
      ]
     },
     "metadata": {},
     "output_type": "display_data"
    },
    {
     "data": {
      "text/html": [
       "<table class=\"dataframe\">\n",
       "<caption>A data.frame: 6 × 8</caption>\n",
       "<thead>\n",
       "\t<tr><th></th><th scope=col>Store</th><th scope=col>Date</th><th scope=col>Weekly_Sales</th><th scope=col>Holiday_Flag</th><th scope=col>Temperature</th><th scope=col>Fuel_Price</th><th scope=col>CPI</th><th scope=col>Unemployment</th></tr>\n",
       "\t<tr><th></th><th scope=col>&lt;int&gt;</th><th scope=col>&lt;chr&gt;</th><th scope=col>&lt;dbl&gt;</th><th scope=col>&lt;fct&gt;</th><th scope=col>&lt;dbl&gt;</th><th scope=col>&lt;dbl&gt;</th><th scope=col>&lt;dbl&gt;</th><th scope=col>&lt;dbl&gt;</th></tr>\n",
       "</thead>\n",
       "<tbody>\n",
       "\t<tr><th scope=row>6430</th><td>45</td><td>21-09-2012</td><td>723086</td><td>0</td><td>18.51</td><td>4.04</td><td>191.86</td><td>8.684</td></tr>\n",
       "\t<tr><th scope=row>6431</th><td>45</td><td>28-09-2012</td><td>713174</td><td>0</td><td>18.27</td><td>4.00</td><td>192.01</td><td>8.684</td></tr>\n",
       "\t<tr><th scope=row>6432</th><td>45</td><td>05-10-2012</td><td>733455</td><td>0</td><td>18.27</td><td>3.98</td><td>192.17</td><td>8.667</td></tr>\n",
       "\t<tr><th scope=row>6433</th><td>45</td><td>12-10-2012</td><td>734464</td><td>0</td><td>12.48</td><td>4.00</td><td>192.33</td><td>8.667</td></tr>\n",
       "\t<tr><th scope=row>6434</th><td>45</td><td>19-10-2012</td><td>718126</td><td>0</td><td>13.59</td><td>3.97</td><td>192.33</td><td>8.667</td></tr>\n",
       "\t<tr><th scope=row>6435</th><td>45</td><td>26-10-2012</td><td>760281</td><td>0</td><td>14.92</td><td>3.88</td><td>192.31</td><td>8.667</td></tr>\n",
       "</tbody>\n",
       "</table>\n"
      ],
      "text/latex": [
       "A data.frame: 6 × 8\n",
       "\\begin{tabular}{r|llllllll}\n",
       "  & Store & Date & Weekly\\_Sales & Holiday\\_Flag & Temperature & Fuel\\_Price & CPI & Unemployment\\\\\n",
       "  & <int> & <chr> & <dbl> & <fct> & <dbl> & <dbl> & <dbl> & <dbl>\\\\\n",
       "\\hline\n",
       "\t6430 & 45 & 21-09-2012 & 723086 & 0 & 18.51 & 4.04 & 191.86 & 8.684\\\\\n",
       "\t6431 & 45 & 28-09-2012 & 713174 & 0 & 18.27 & 4.00 & 192.01 & 8.684\\\\\n",
       "\t6432 & 45 & 05-10-2012 & 733455 & 0 & 18.27 & 3.98 & 192.17 & 8.667\\\\\n",
       "\t6433 & 45 & 12-10-2012 & 734464 & 0 & 12.48 & 4.00 & 192.33 & 8.667\\\\\n",
       "\t6434 & 45 & 19-10-2012 & 718126 & 0 & 13.59 & 3.97 & 192.33 & 8.667\\\\\n",
       "\t6435 & 45 & 26-10-2012 & 760281 & 0 & 14.92 & 3.88 & 192.31 & 8.667\\\\\n",
       "\\end{tabular}\n"
      ],
      "text/markdown": [
       "\n",
       "A data.frame: 6 × 8\n",
       "\n",
       "| <!--/--> | Store &lt;int&gt; | Date &lt;chr&gt; | Weekly_Sales &lt;dbl&gt; | Holiday_Flag &lt;fct&gt; | Temperature &lt;dbl&gt; | Fuel_Price &lt;dbl&gt; | CPI &lt;dbl&gt; | Unemployment &lt;dbl&gt; |\n",
       "|---|---|---|---|---|---|---|---|---|\n",
       "| 6430 | 45 | 21-09-2012 | 723086 | 0 | 18.51 | 4.04 | 191.86 | 8.684 |\n",
       "| 6431 | 45 | 28-09-2012 | 713174 | 0 | 18.27 | 4.00 | 192.01 | 8.684 |\n",
       "| 6432 | 45 | 05-10-2012 | 733455 | 0 | 18.27 | 3.98 | 192.17 | 8.667 |\n",
       "| 6433 | 45 | 12-10-2012 | 734464 | 0 | 12.48 | 4.00 | 192.33 | 8.667 |\n",
       "| 6434 | 45 | 19-10-2012 | 718126 | 0 | 13.59 | 3.97 | 192.33 | 8.667 |\n",
       "| 6435 | 45 | 26-10-2012 | 760281 | 0 | 14.92 | 3.88 | 192.31 | 8.667 |\n",
       "\n"
      ],
      "text/plain": [
       "     Store Date       Weekly_Sales Holiday_Flag Temperature Fuel_Price CPI   \n",
       "6430 45    21-09-2012 723086       0            18.51       4.04       191.86\n",
       "6431 45    28-09-2012 713174       0            18.27       4.00       192.01\n",
       "6432 45    05-10-2012 733455       0            18.27       3.98       192.17\n",
       "6433 45    12-10-2012 734464       0            12.48       4.00       192.33\n",
       "6434 45    19-10-2012 718126       0            13.59       3.97       192.33\n",
       "6435 45    26-10-2012 760281       0            14.92       3.88       192.31\n",
       "     Unemployment\n",
       "6430 8.684       \n",
       "6431 8.684       \n",
       "6432 8.667       \n",
       "6433 8.667       \n",
       "6434 8.667       \n",
       "6435 8.667       "
      ]
     },
     "metadata": {},
     "output_type": "display_data"
    }
   ],
   "source": [
    "# Load the data\n",
    "data = read.csv(\"Walmart_Sales.csv\") |> na.omit()\n",
    "\n",
    "# Modify the contents of the data below\n",
    "#############\n",
    "\n",
    "# Change the temperature to celcius\n",
    "data$Temperature = round((data$Temperature - 32)*(5/9), 2)\n",
    "\n",
    "# Round the decimal places for the following columns\n",
    "data$Fuel_Price = round(data$Fuel_Price, 2)\n",
    "data$CPI = round(data$CPI, 2)\n",
    "data$Weekly_Sales = round(data$Weekly_Sales, 0)\n",
    "\n",
    "# Convert Holiday flag to factor (because it's categorical)\n",
    "data$Holiday_Flag = factor(data$Holiday_Flag)\n",
    "\n",
    "# Print out a summary of the first and last lines.\n",
    "head(data)\n",
    "tail(data)"
   ]
  },
  {
   "cell_type": "markdown",
   "metadata": {},
   "source": [
    "---\n",
    "\n",
    "## **Description of Variables**"
   ]
  },
  {
   "cell_type": "markdown",
   "metadata": {},
   "source": [
    "**Weekly_Sales** (*Continuous, Response variable*) - Weekly revenue generated from sales through the week in USD\n",
    "\n",
    "**Holiday_Flag** (*Dummy Categorical, Covariate*) - Indicator for: holiday exists within the week (1) or no holidays exist within the week (0).\n",
    "\n",
    "**Temperature** (*Continuous, Covariate*) - Average air temperature in the store’s region throughout the week which is originally in degrees fahrenheit. For our analysis, we converted it into degrees celcius\n",
    "\n",
    "**Fuel_Price** (*Continuous, Covariate*) - Average cost of fuel in the store’s region USD per gallon throughout the week.\n",
    "\n",
    "**CPI** (*Continuous, Covariate*) - Average Consumer Price Index throughout the week.\n",
    "\n",
    "**Unemployment** (*Continous, Covariate*) - Average Unemployment rate (%) throughout the week."
   ]
  },
  {
   "cell_type": "markdown",
   "metadata": {},
   "source": [
    "---\n",
    "\n",
    "## **Data Pre-Processing**"
   ]
  },
  {
   "cell_type": "markdown",
   "metadata": {},
   "source": [
    "Since the original dataset comprises 6,435 observations from 45 stores, conducting regression analysis on the entire dataset would violate the assumption of independence (i.e., observations are independent of one another). This is due to the fact that weekly sales within the same store are highly dependent, as they are influenced by shared factors such as location, recurring customer behavior patterns, local economic conditions, and store-specific operational strategies.\n",
    "\n",
    "Therefore, we decide to choose one store as a representative of all the stores, which can reflect the characteristics of all stores.\n",
    "\n",
    "To select a store that represents the overall characteristics of all stores effectively, we identify the store with the median rank based on a combination of its average weekly sales and variance in weekly sales. The calculations were performed using a series of steps. First, summary statistics, including the mean and variance of weekly sales, were computed for each store. The sum of these two ranks was calculated to determine each store’s combined rank. Subsequently, the data was sorted based on the combined rank, and the store corresponding to the median rank was identified as the most representative."
   ]
  },
  {
   "cell_type": "code",
   "execution_count": null,
   "metadata": {
    "vscode": {
     "languageId": "r"
    }
   },
   "outputs": [
    {
     "name": "stdout",
     "output_type": "stream",
     "text": [
      "[1] 40\n"
     ]
    },
    {
     "data": {
      "image/png": "[encoded data removed]",
      "text/plain": [
       "plot without title"
      ]
     },
     "metadata": {
      "image/png": {
       "height": 540,
       "width": 720
      }
     },
     "output_type": "display_data"
    }
   ],
   "source": [
    "# First, obtain the summary statistics for each store\n",
    "data_summary = data |> group_by(Store) |> summarize(mean_weekly_sales = mean(Weekly_Sales), var_weekly_sales = var(Weekly_Sales)) |> mutate(rank_mean_weekly_sales = rank(mean_weekly_sales), rank_var_weekly_sales = rank(var_weekly_sales)) |> mutate(sum_of_ranks = rank_mean_weekly_sales + rank_var_weekly_sales)\n",
    "\n",
    "# Then raange the rows based on the overall rank\n",
    "data_summary = data_summary |> arrange(sum_of_ranks) \n",
    "\n",
    "# Extract the store number we choose (the store with median combined rank)\n",
    "chosen_store = data_summary[round(nrow(data_summary)/2, 0), 1] |> pull()\n",
    "print(chosen_store)\n",
    "\n",
    "# Set ggplot size\n",
    "options(repr.plot.width = 12, repr.plot.height = 9)\n",
    "\n",
    "# Create a boxplot that plots the individual stores (with their store number recorded) against their weekly sales \n",
    "ggplot(data = data, aes(x = factor(Store), y = Weekly_Sales)) +\n",
    "  geom_boxplot() +\n",
    "  geom_boxplot(data = subset(data, factor(Store) == \"40\"), \n",
    "               aes(x = factor(Store), y = Weekly_Sales),\n",
    "               fill = \"red\", color = \"black\", width = 0.7) +\n",
    "  labs(title = \"Side by Side boxplot of the weekly sales of all stores\", x = \"Store Number\", y = \"Weekly Sales (USD)\")"
   ]
  },
  {
   "cell_type": "markdown",
   "metadata": {},
   "source": [
    "The whole dataset was then filtered to only entries that were from store 40"
   ]
  },
  {
   "cell_type": "code",
   "execution_count": 15,
   "metadata": {
    "vscode": {
     "languageId": "r"
    }
   },
   "outputs": [
    {
     "data": {
      "text/html": [
       "<table class=\"dataframe\">\n",
       "<caption>A data.frame: 6 × 8</caption>\n",
       "<thead>\n",
       "\t<tr><th></th><th scope=col>Store</th><th scope=col>Date</th><th scope=col>Weekly_Sales</th><th scope=col>Holiday_Flag</th><th scope=col>Temperature</th><th scope=col>Fuel_Price</th><th scope=col>CPI</th><th scope=col>Unemployment</th></tr>\n",
       "\t<tr><th></th><th scope=col>&lt;int&gt;</th><th scope=col>&lt;chr&gt;</th><th scope=col>&lt;dbl&gt;</th><th scope=col>&lt;fct&gt;</th><th scope=col>&lt;dbl&gt;</th><th scope=col>&lt;dbl&gt;</th><th scope=col>&lt;dbl&gt;</th><th scope=col>&lt;dbl&gt;</th></tr>\n",
       "</thead>\n",
       "<tbody>\n",
       "\t<tr><th scope=row>1</th><td>40</td><td>05-02-2010</td><td>1001944</td><td>0</td><td>-9.73</td><td>2.79</td><td>131.53</td><td>5.892</td></tr>\n",
       "\t<tr><th scope=row>2</th><td>40</td><td>12-02-2010</td><td> 955338</td><td>1</td><td>-6.20</td><td>2.77</td><td>131.59</td><td>5.892</td></tr>\n",
       "\t<tr><th scope=row>3</th><td>40</td><td>19-02-2010</td><td> 916289</td><td>0</td><td>-2.31</td><td>2.75</td><td>131.64</td><td>5.892</td></tr>\n",
       "\t<tr><th scope=row>4</th><td>40</td><td>26-02-2010</td><td> 863917</td><td>0</td><td> 0.73</td><td>2.75</td><td>131.69</td><td>5.892</td></tr>\n",
       "\t<tr><th scope=row>5</th><td>40</td><td>05-03-2010</td><td> 990152</td><td>0</td><td> 1.54</td><td>2.77</td><td>131.74</td><td>5.892</td></tr>\n",
       "\t<tr><th scope=row>6</th><td>40</td><td>12-03-2010</td><td> 899352</td><td>0</td><td> 1.72</td><td>2.81</td><td>131.78</td><td>5.892</td></tr>\n",
       "</tbody>\n",
       "</table>\n"
      ],
      "text/latex": [
       "A data.frame: 6 × 8\n",
       "\\begin{tabular}{r|llllllll}\n",
       "  & Store & Date & Weekly\\_Sales & Holiday\\_Flag & Temperature & Fuel\\_Price & CPI & Unemployment\\\\\n",
       "  & <int> & <chr> & <dbl> & <fct> & <dbl> & <dbl> & <dbl> & <dbl>\\\\\n",
       "\\hline\n",
       "\t1 & 40 & 05-02-2010 & 1001944 & 0 & -9.73 & 2.79 & 131.53 & 5.892\\\\\n",
       "\t2 & 40 & 12-02-2010 &  955338 & 1 & -6.20 & 2.77 & 131.59 & 5.892\\\\\n",
       "\t3 & 40 & 19-02-2010 &  916289 & 0 & -2.31 & 2.75 & 131.64 & 5.892\\\\\n",
       "\t4 & 40 & 26-02-2010 &  863917 & 0 &  0.73 & 2.75 & 131.69 & 5.892\\\\\n",
       "\t5 & 40 & 05-03-2010 &  990152 & 0 &  1.54 & 2.77 & 131.74 & 5.892\\\\\n",
       "\t6 & 40 & 12-03-2010 &  899352 & 0 &  1.72 & 2.81 & 131.78 & 5.892\\\\\n",
       "\\end{tabular}\n"
      ],
      "text/markdown": [
       "\n",
       "A data.frame: 6 × 8\n",
       "\n",
       "| <!--/--> | Store &lt;int&gt; | Date &lt;chr&gt; | Weekly_Sales &lt;dbl&gt; | Holiday_Flag &lt;fct&gt; | Temperature &lt;dbl&gt; | Fuel_Price &lt;dbl&gt; | CPI &lt;dbl&gt; | Unemployment &lt;dbl&gt; |\n",
       "|---|---|---|---|---|---|---|---|---|\n",
       "| 1 | 40 | 05-02-2010 | 1001944 | 0 | -9.73 | 2.79 | 131.53 | 5.892 |\n",
       "| 2 | 40 | 12-02-2010 |  955338 | 1 | -6.20 | 2.77 | 131.59 | 5.892 |\n",
       "| 3 | 40 | 19-02-2010 |  916289 | 0 | -2.31 | 2.75 | 131.64 | 5.892 |\n",
       "| 4 | 40 | 26-02-2010 |  863917 | 0 |  0.73 | 2.75 | 131.69 | 5.892 |\n",
       "| 5 | 40 | 05-03-2010 |  990152 | 0 |  1.54 | 2.77 | 131.74 | 5.892 |\n",
       "| 6 | 40 | 12-03-2010 |  899352 | 0 |  1.72 | 2.81 | 131.78 | 5.892 |\n",
       "\n"
      ],
      "text/plain": [
       "  Store Date       Weekly_Sales Holiday_Flag Temperature Fuel_Price CPI   \n",
       "1 40    05-02-2010 1001944      0            -9.73       2.79       131.53\n",
       "2 40    12-02-2010  955338      1            -6.20       2.77       131.59\n",
       "3 40    19-02-2010  916289      0            -2.31       2.75       131.64\n",
       "4 40    26-02-2010  863917      0             0.73       2.75       131.69\n",
       "5 40    05-03-2010  990152      0             1.54       2.77       131.74\n",
       "6 40    12-03-2010  899352      0             1.72       2.81       131.78\n",
       "  Unemployment\n",
       "1 5.892       \n",
       "2 5.892       \n",
       "3 5.892       \n",
       "4 5.892       \n",
       "5 5.892       \n",
       "6 5.892       "
      ]
     },
     "metadata": {},
     "output_type": "display_data"
    },
    {
     "data": {
      "text/html": [
       "<table class=\"dataframe\">\n",
       "<caption>A data.frame: 6 × 8</caption>\n",
       "<thead>\n",
       "\t<tr><th></th><th scope=col>Store</th><th scope=col>Date</th><th scope=col>Weekly_Sales</th><th scope=col>Holiday_Flag</th><th scope=col>Temperature</th><th scope=col>Fuel_Price</th><th scope=col>CPI</th><th scope=col>Unemployment</th></tr>\n",
       "\t<tr><th></th><th scope=col>&lt;int&gt;</th><th scope=col>&lt;chr&gt;</th><th scope=col>&lt;dbl&gt;</th><th scope=col>&lt;fct&gt;</th><th scope=col>&lt;dbl&gt;</th><th scope=col>&lt;dbl&gt;</th><th scope=col>&lt;dbl&gt;</th><th scope=col>&lt;dbl&gt;</th></tr>\n",
       "</thead>\n",
       "<tbody>\n",
       "\t<tr><th scope=row>138</th><td>40</td><td>21-09-2012</td><td> 899768</td><td>0</td><td>12.29</td><td>4.06</td><td>138.65</td><td>4.156</td></tr>\n",
       "\t<tr><th scope=row>139</th><td>40</td><td>28-09-2012</td><td> 919595</td><td>0</td><td>10.54</td><td>4.02</td><td>138.74</td><td>4.156</td></tr>\n",
       "\t<tr><th scope=row>140</th><td>40</td><td>05-10-2012</td><td>1069112</td><td>0</td><td>14.01</td><td>4.03</td><td>138.83</td><td>4.145</td></tr>\n",
       "\t<tr><th scope=row>141</th><td>40</td><td>12-10-2012</td><td> 982523</td><td>0</td><td> 8.53</td><td>4.03</td><td>138.91</td><td>4.145</td></tr>\n",
       "\t<tr><th scope=row>142</th><td>40</td><td>19-10-2012</td><td> 918170</td><td>0</td><td> 7.96</td><td>4.00</td><td>138.83</td><td>4.145</td></tr>\n",
       "\t<tr><th scope=row>143</th><td>40</td><td>26-10-2012</td><td> 921265</td><td>0</td><td> 9.81</td><td>3.92</td><td>138.73</td><td>4.145</td></tr>\n",
       "</tbody>\n",
       "</table>\n"
      ],
      "text/latex": [
       "A data.frame: 6 × 8\n",
       "\\begin{tabular}{r|llllllll}\n",
       "  & Store & Date & Weekly\\_Sales & Holiday\\_Flag & Temperature & Fuel\\_Price & CPI & Unemployment\\\\\n",
       "  & <int> & <chr> & <dbl> & <fct> & <dbl> & <dbl> & <dbl> & <dbl>\\\\\n",
       "\\hline\n",
       "\t138 & 40 & 21-09-2012 &  899768 & 0 & 12.29 & 4.06 & 138.65 & 4.156\\\\\n",
       "\t139 & 40 & 28-09-2012 &  919595 & 0 & 10.54 & 4.02 & 138.74 & 4.156\\\\\n",
       "\t140 & 40 & 05-10-2012 & 1069112 & 0 & 14.01 & 4.03 & 138.83 & 4.145\\\\\n",
       "\t141 & 40 & 12-10-2012 &  982523 & 0 &  8.53 & 4.03 & 138.91 & 4.145\\\\\n",
       "\t142 & 40 & 19-10-2012 &  918170 & 0 &  7.96 & 4.00 & 138.83 & 4.145\\\\\n",
       "\t143 & 40 & 26-10-2012 &  921265 & 0 &  9.81 & 3.92 & 138.73 & 4.145\\\\\n",
       "\\end{tabular}\n"
      ],
      "text/markdown": [
       "\n",
       "A data.frame: 6 × 8\n",
       "\n",
       "| <!--/--> | Store &lt;int&gt; | Date &lt;chr&gt; | Weekly_Sales &lt;dbl&gt; | Holiday_Flag &lt;fct&gt; | Temperature &lt;dbl&gt; | Fuel_Price &lt;dbl&gt; | CPI &lt;dbl&gt; | Unemployment &lt;dbl&gt; |\n",
       "|---|---|---|---|---|---|---|---|---|\n",
       "| 138 | 40 | 21-09-2012 |  899768 | 0 | 12.29 | 4.06 | 138.65 | 4.156 |\n",
       "| 139 | 40 | 28-09-2012 |  919595 | 0 | 10.54 | 4.02 | 138.74 | 4.156 |\n",
       "| 140 | 40 | 05-10-2012 | 1069112 | 0 | 14.01 | 4.03 | 138.83 | 4.145 |\n",
       "| 141 | 40 | 12-10-2012 |  982523 | 0 |  8.53 | 4.03 | 138.91 | 4.145 |\n",
       "| 142 | 40 | 19-10-2012 |  918170 | 0 |  7.96 | 4.00 | 138.83 | 4.145 |\n",
       "| 143 | 40 | 26-10-2012 |  921265 | 0 |  9.81 | 3.92 | 138.73 | 4.145 |\n",
       "\n"
      ],
      "text/plain": [
       "    Store Date       Weekly_Sales Holiday_Flag Temperature Fuel_Price CPI   \n",
       "138 40    21-09-2012  899768      0            12.29       4.06       138.65\n",
       "139 40    28-09-2012  919595      0            10.54       4.02       138.74\n",
       "140 40    05-10-2012 1069112      0            14.01       4.03       138.83\n",
       "141 40    12-10-2012  982523      0             8.53       4.03       138.91\n",
       "142 40    19-10-2012  918170      0             7.96       4.00       138.83\n",
       "143 40    26-10-2012  921265      0             9.81       3.92       138.73\n",
       "    Unemployment\n",
       "138 4.156       \n",
       "139 4.156       \n",
       "140 4.145       \n",
       "141 4.145       \n",
       "142 4.145       \n",
       "143 4.145       "
      ]
     },
     "metadata": {},
     "output_type": "display_data"
    }
   ],
   "source": [
    "# Get the data for the store we chose\n",
    "store_40 = data |> filter(Store == chosen_store)\n",
    "head(store_40)\n",
    "tail(store_40)"
   ]
  },
  {
   "cell_type": "markdown",
   "metadata": {},
   "source": [
    "In this analysis, store 40 was selected as the representative store. A boxplot of weekly sales across all stores confirmed that store 40's sales patterns are reasonable and reflective of the general trends observed in the dataset, since the mean and variance of store 40’s weekly sales seem to be fairly average across all stores. Our store selection process ranks the stores by weekly sales, as well as its variance of weekly sales, and takes the sum of the ranks. The store with the median sum of ranks (store 40)  is selected to increase the likelihood of the selected store being able to well represent the key statistical characteristics of the entire dataset.\n",
    "\n",
    "Also, 2 outlier points (data points that have a weekly sales above $1,500,000) were removed to avoid a biased model and have a more accurate model selection (performed below). This is because the 2 outliers will increase the standard errors of our estimated coefficients, thus increasing the p-value, and the likelihood that the covariate is removed during the model selection process (Type 2 error where the null hypothesis of the covariate having slope = 0 is failed to be rejected)."
   ]
  },
  {
   "cell_type": "markdown",
   "metadata": {},
   "source": [
    "--- \n",
    "\n",
    "## **Exploratory Data Analysis**"
   ]
  },
  {
   "cell_type": "markdown",
   "metadata": {},
   "source": [
    "Based on the store we chosen (store 40), we then conduct data visualization of the response variable and covariates to do preliminary data analysis before using the regression model.\n",
    "\n",
    "First, 4 scatter plots **Weekly Sales vs. the four continuous variables** (CPI, Unemployment, Fuel Price, and Temperature), **categorized by Holiday_Flag** were created to preliminarily observe how each covariate (along with holiday flag interactions) affects the weekly sales."
   ]
  },
  {
   "cell_type": "code",
   "execution_count": 24,
   "metadata": {
    "vscode": {
     "languageId": "r"
    }
   },
   "outputs": [
    {
     "name": "stderr",
     "output_type": "stream",
     "text": [
      "\u001b[1m\u001b[22m`geom_smooth()` using formula = 'y ~ x'\n",
      "\u001b[1m\u001b[22m`geom_smooth()` using formula = 'y ~ x'\n",
      "\u001b[1m\u001b[22m`geom_smooth()` using formula = 'y ~ x'\n",
      "\u001b[1m\u001b[22m`geom_smooth()` using formula = 'y ~ x'\n"
     ]
    },
    {
     "data": {
      "image/png": "[encoded data removed]",
      "text/plain": [
       "plot without title"
      ]
     },
     "metadata": {
      "image/png": {
       "height": 540,
       "width": 720
      }
     },
     "output_type": "display_data"
    }
   ],
   "source": [
    "# Weekly Sales vs. Temperature including Holiday Flag interaction\n",
    "temp_holiday_plot = ggplot(data = store_40, aes(x = Temperature, y = Weekly_Sales, col = Holiday_Flag)) +\n",
    "  geom_point() + \n",
    "  labs(title = \"Weekly Sales vs. Temperature with Holiday Flag interaction\", x = \"Temperature (°C)\", y = \"Weekly Sales (USD)\") +\n",
    "  geom_smooth(method = \"lm\", se = FALSE)\n",
    "\n",
    "\n",
    "# Weekly Sales vs. Fuel Price including Holiday Flag interaction\n",
    "fuel_holiday_plot = ggplot(data = store_40, aes(x = Fuel_Price, y = Weekly_Sales, col = Holiday_Flag)) +\n",
    "  geom_point() + \n",
    "  labs(title = \"Weekly Sales vs. Fuel_Price with Holiday Flag interaction\", x = \"Fuel Price (USD/gallon)\", y = \"Weekly Sales (USD)\") +\n",
    "  geom_smooth(method = \"lm\", se = FALSE)\n",
    "\n",
    "# Weekly Sales vs. CPI\n",
    "cpi_holiday_plot = ggplot(data = store_40, aes(x = CPI, y = Weekly_Sales, col = Holiday_Flag)) +\n",
    "  geom_point() + \n",
    "  labs(title = \"Weekly Sales vs. CPI index with Holiday Flag interaction\", x = \"CPI index\", y = \"Weekly Sales (USD)\") +\n",
    "  geom_smooth(method = \"lm\", se = FALSE)\n",
    "\n",
    "# Weekly Sales vs. Unemployment\n",
    "unemployment_holiday_plot = ggplot(data = store_40, aes(x = Unemployment, y = Weekly_Sales, col = Holiday_Flag)) +\n",
    "  geom_point() + \n",
    "  labs(title = \"Weekly Sales vs. Unemployment Rate with Holiday Flag interaction\", x = \"Unemployment Rate\", y = \"Weekly Sales (USD)\") +\n",
    "  geom_smooth(method = \"lm\", se = FALSE)\n",
    "\n",
    "# Set ggplot size\n",
    "options(repr.plot.width = 12, repr.plot.height = 9)\n",
    "\n",
    "# Arrange the plots in a 2x2 grid\n",
    "grid.arrange(temp_holiday_plot, fuel_holiday_plot, cpi_holiday_plot, unemployment_holiday_plot, nrow = 2, ncol = 2)"
   ]
  },
  {
   "cell_type": "markdown",
   "metadata": {},
   "source": []
  }
 ],
 "metadata": {
  "kernelspec": {
   "display_name": "R",
   "language": "R",
   "name": "ir"
  },
  "language_info": {
   "codemirror_mode": "r",
   "file_extension": ".r",
   "mimetype": "text/x-r-source",
   "name": "R",
   "pygments_lexer": "r",
   "version": "4.4.1"
  }
 },
 "nbformat": 4,
 "nbformat_minor": 2
}
