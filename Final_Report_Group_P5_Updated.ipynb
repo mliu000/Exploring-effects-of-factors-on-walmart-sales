{
 "cells": [
  {
   "cell_type": "markdown",
   "metadata": {},
   "source": [
    "# **Exploring the effect of various external factors on Weekly Sales of Walmart Stores**\n",
    "\n",
    "---"
   ]
  },
  {
   "cell_type": "markdown",
   "metadata": {},
   "source": [
    "Group Members: Mu Ye Liu, Siyi Man, Borry Yu, Nikita Prabhu \n",
    "\n",
    "---"
   ]
  },
  {
   "cell_type": "code",
   "execution_count": 2,
   "metadata": {
    "vscode": {
     "languageId": "r"
    }
   },
   "outputs": [
    {
     "name": "stderr",
     "output_type": "stream",
     "text": [
      "\n",
      "Attaching package: 'dplyr'\n",
      "\n",
      "\n",
      "The following objects are masked from 'package:stats':\n",
      "\n",
      "    filter, lag\n",
      "\n",
      "\n",
      "The following objects are masked from 'package:base':\n",
      "\n",
      "    intersect, setdiff, setequal, union\n",
      "\n",
      "\n",
      "Warning message:\n",
      "\"package 'ggplot2' was built under R version 4.4.2\"\n"
     ]
    }
   ],
   "source": [
    "## Load the necessary R packages\n",
    "library(dplyr)\n",
    "library(ggplot2)"
   ]
  },
  {
   "cell_type": "markdown",
   "metadata": {
    "vscode": {
     "languageId": "r"
    }
   },
   "source": [
    "---\n",
    "\n",
    "## **Introduction**"
   ]
  },
  {
   "cell_type": "markdown",
   "metadata": {},
   "source": [
    "#### **About the Dataset**\n",
    "\n",
    "The data we are analyzing is obtained from Kaggle, with link: https://www.kaggle.com/datasets/mikhail1681/walmart-sales?resource=download.\n",
    "\n",
    "This dataset contains information on 45 Walmart stores across multiple regions, with data mostly collected between the through time between the years of 2010 - 2012. Each entry represented a week, where the weekly sales of the store in USD (our response variable) and other external factors such as average temperature, fuel price, whether or not a holiday existed throughout the week, etc are also recorded. This dataset was scraped from the official website of Amazon through BeautifulSoup and WebDriver using Python. \n",
    "\n",
    "#### **Motivation for analysis**\n",
    "\n",
    "Analyzing this dataset can reveal insights into the factors influencing retail sales at Walmart, such as holidays, weather, and broader economic conditions. Understanding these relationships is valuable for developing data-driven strategies to optimize inventory, staffing, and marketing efforts. Insights from this dataset may also provide predictive value to other retail businesses seeking to enhance their sales forecasting and adapt to economic fluctuations. "
   ]
  },
  {
   "cell_type": "markdown",
   "metadata": {},
   "source": [
    "---\n",
    "\n",
    "## **Description of Variables**"
   ]
  },
  {
   "cell_type": "markdown",
   "metadata": {},
   "source": []
  }
 ],
 "metadata": {
  "kernelspec": {
   "display_name": "R",
   "language": "R",
   "name": "ir"
  },
  "language_info": {
   "codemirror_mode": "r",
   "file_extension": ".r",
   "mimetype": "text/x-r-source",
   "name": "R",
   "pygments_lexer": "r",
   "version": "4.4.1"
  }
 },
 "nbformat": 4,
 "nbformat_minor": 2
}
